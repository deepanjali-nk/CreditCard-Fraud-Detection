{
 "cells": [
  {
   "cell_type": "markdown",
   "id": "30c7fd62",
   "metadata": {},
   "source": [
    "# Credit Card"
   ]
  },
  {
   "cell_type": "code",
   "execution_count": null,
   "id": "838daf0d",
   "metadata": {},
   "outputs": [],
   "source": [
    "#importing necessary dependencies\n",
    "import numpy as np\n",
    "import pandas as pd\n",
    "import matplotlib.pyplot as plt\n",
    "from sklearn.model_selection import train_test_split\n",
    "from sklearn.linear_model import LogisticRegression\n",
    "from sklearn.metrics import accuracy_score"
   ]
  },
  {
   "cell_type": "code",
   "execution_count": 2,
   "id": "8a3d946f",
   "metadata": {},
   "outputs": [
    {
     "data": {
      "text/html": [
       "<div>\n",
       "<style scoped>\n",
       "    .dataframe tbody tr th:only-of-type {\n",
       "        vertical-align: middle;\n",
       "    }\n",
       "\n",
       "    .dataframe tbody tr th {\n",
       "        vertical-align: top;\n",
       "    }\n",
       "\n",
       "    .dataframe thead th {\n",
       "        text-align: right;\n",
       "    }\n",
       "</style>\n",
       "<table border=\"1\" class=\"dataframe\">\n",
       "  <thead>\n",
       "    <tr style=\"text-align: right;\">\n",
       "      <th></th>\n",
       "      <th>Time</th>\n",
       "      <th>V1</th>\n",
       "      <th>V2</th>\n",
       "      <th>V3</th>\n",
       "      <th>V4</th>\n",
       "      <th>V5</th>\n",
       "      <th>V6</th>\n",
       "      <th>V7</th>\n",
       "      <th>V8</th>\n",
       "      <th>V9</th>\n",
       "      <th>...</th>\n",
       "      <th>V21</th>\n",
       "      <th>V22</th>\n",
       "      <th>V23</th>\n",
       "      <th>V24</th>\n",
       "      <th>V25</th>\n",
       "      <th>V26</th>\n",
       "      <th>V27</th>\n",
       "      <th>V28</th>\n",
       "      <th>Amount</th>\n",
       "      <th>Class</th>\n",
       "    </tr>\n",
       "  </thead>\n",
       "  <tbody>\n",
       "    <tr>\n",
       "      <th>0</th>\n",
       "      <td>0.0</td>\n",
       "      <td>-1.359807</td>\n",
       "      <td>-0.072781</td>\n",
       "      <td>2.536347</td>\n",
       "      <td>1.378155</td>\n",
       "      <td>-0.338321</td>\n",
       "      <td>0.462388</td>\n",
       "      <td>0.239599</td>\n",
       "      <td>0.098698</td>\n",
       "      <td>0.363787</td>\n",
       "      <td>...</td>\n",
       "      <td>-0.018307</td>\n",
       "      <td>0.277838</td>\n",
       "      <td>-0.110474</td>\n",
       "      <td>0.066928</td>\n",
       "      <td>0.128539</td>\n",
       "      <td>-0.189115</td>\n",
       "      <td>0.133558</td>\n",
       "      <td>-0.021053</td>\n",
       "      <td>149.62</td>\n",
       "      <td>0</td>\n",
       "    </tr>\n",
       "    <tr>\n",
       "      <th>1</th>\n",
       "      <td>0.0</td>\n",
       "      <td>1.191857</td>\n",
       "      <td>0.266151</td>\n",
       "      <td>0.166480</td>\n",
       "      <td>0.448154</td>\n",
       "      <td>0.060018</td>\n",
       "      <td>-0.082361</td>\n",
       "      <td>-0.078803</td>\n",
       "      <td>0.085102</td>\n",
       "      <td>-0.255425</td>\n",
       "      <td>...</td>\n",
       "      <td>-0.225775</td>\n",
       "      <td>-0.638672</td>\n",
       "      <td>0.101288</td>\n",
       "      <td>-0.339846</td>\n",
       "      <td>0.167170</td>\n",
       "      <td>0.125895</td>\n",
       "      <td>-0.008983</td>\n",
       "      <td>0.014724</td>\n",
       "      <td>2.69</td>\n",
       "      <td>0</td>\n",
       "    </tr>\n",
       "  </tbody>\n",
       "</table>\n",
       "<p>2 rows × 31 columns</p>\n",
       "</div>"
      ],
      "text/plain": [
       "   Time        V1        V2        V3        V4        V5        V6        V7  \\\n",
       "0   0.0 -1.359807 -0.072781  2.536347  1.378155 -0.338321  0.462388  0.239599   \n",
       "1   0.0  1.191857  0.266151  0.166480  0.448154  0.060018 -0.082361 -0.078803   \n",
       "\n",
       "         V8        V9  ...       V21       V22       V23       V24       V25  \\\n",
       "0  0.098698  0.363787  ... -0.018307  0.277838 -0.110474  0.066928  0.128539   \n",
       "1  0.085102 -0.255425  ... -0.225775 -0.638672  0.101288 -0.339846  0.167170   \n",
       "\n",
       "        V26       V27       V28  Amount  Class  \n",
       "0 -0.189115  0.133558 -0.021053  149.62      0  \n",
       "1  0.125895 -0.008983  0.014724    2.69      0  \n",
       "\n",
       "[2 rows x 31 columns]"
      ]
     },
     "execution_count": 2,
     "metadata": {},
     "output_type": "execute_result"
    }
   ],
   "source": [
    "#load dataset\n",
    "data=pd.read_csv('creditcard.csv')\n",
    "data.head(2)\n"
   ]
  },
  {
   "cell_type": "code",
   "execution_count": 3,
   "id": "f64c3605",
   "metadata": {},
   "outputs": [
    {
     "name": "stdout",
     "output_type": "stream",
     "text": [
      "<class 'pandas.core.frame.DataFrame'>\n",
      "RangeIndex: 284807 entries, 0 to 284806\n",
      "Data columns (total 31 columns):\n",
      " #   Column  Non-Null Count   Dtype  \n",
      "---  ------  --------------   -----  \n",
      " 0   Time    284807 non-null  float64\n",
      " 1   V1      284807 non-null  float64\n",
      " 2   V2      284807 non-null  float64\n",
      " 3   V3      284807 non-null  float64\n",
      " 4   V4      284807 non-null  float64\n",
      " 5   V5      284807 non-null  float64\n",
      " 6   V6      284807 non-null  float64\n",
      " 7   V7      284807 non-null  float64\n",
      " 8   V8      284807 non-null  float64\n",
      " 9   V9      284807 non-null  float64\n",
      " 10  V10     284807 non-null  float64\n",
      " 11  V11     284807 non-null  float64\n",
      " 12  V12     284807 non-null  float64\n",
      " 13  V13     284807 non-null  float64\n",
      " 14  V14     284807 non-null  float64\n",
      " 15  V15     284807 non-null  float64\n",
      " 16  V16     284807 non-null  float64\n",
      " 17  V17     284807 non-null  float64\n",
      " 18  V18     284807 non-null  float64\n",
      " 19  V19     284807 non-null  float64\n",
      " 20  V20     284807 non-null  float64\n",
      " 21  V21     284807 non-null  float64\n",
      " 22  V22     284807 non-null  float64\n",
      " 23  V23     284807 non-null  float64\n",
      " 24  V24     284807 non-null  float64\n",
      " 25  V25     284807 non-null  float64\n",
      " 26  V26     284807 non-null  float64\n",
      " 27  V27     284807 non-null  float64\n",
      " 28  V28     284807 non-null  float64\n",
      " 29  Amount  284807 non-null  float64\n",
      " 30  Class   284807 non-null  int64  \n",
      "dtypes: float64(30), int64(1)\n",
      "memory usage: 67.4 MB\n"
     ]
    },
    {
     "data": {
      "text/plain": [
       "0    284315\n",
       "1       492\n",
       "Name: Class, dtype: int64"
      ]
     },
     "execution_count": 3,
     "metadata": {},
     "output_type": "execute_result"
    }
   ],
   "source": [
    "#information about data\n",
    "data.info()\n",
    "data['Class'].value_counts()"
   ]
  },
  {
   "cell_type": "code",
   "execution_count": 4,
   "id": "020065a6",
   "metadata": {},
   "outputs": [
    {
     "name": "stdout",
     "output_type": "stream",
     "text": [
      "(284315, 31) (492, 31)\n"
     ]
    }
   ],
   "source": [
    "#since 0 represents a normal transaction and 1 represents a fraudulent transcation, classifying the data for analysis \n",
    "valid=data[data.Class==0]\n",
    "fraud=data[data.Class==1]\n",
    "print(valid.shape,fraud.shape)\n"
   ]
  },
  {
   "cell_type": "code",
   "execution_count": 5,
   "id": "9cef9699",
   "metadata": {},
   "outputs": [
    {
     "data": {
      "text/plain": [
       "count    284315.000000\n",
       "mean         88.291022\n",
       "std         250.105092\n",
       "min           0.000000\n",
       "25%           5.650000\n",
       "50%          22.000000\n",
       "75%          77.050000\n",
       "max       25691.160000\n",
       "Name: Amount, dtype: float64"
      ]
     },
     "execution_count": 5,
     "metadata": {},
     "output_type": "execute_result"
    }
   ],
   "source": [
    "valid.Amount.describe()"
   ]
  },
  {
   "cell_type": "code",
   "execution_count": 6,
   "id": "5a633a06",
   "metadata": {},
   "outputs": [
    {
     "data": {
      "text/plain": [
       "count     492.000000\n",
       "mean      122.211321\n",
       "std       256.683288\n",
       "min         0.000000\n",
       "25%         1.000000\n",
       "50%         9.250000\n",
       "75%       105.890000\n",
       "max      2125.870000\n",
       "Name: Amount, dtype: float64"
      ]
     },
     "execution_count": 6,
     "metadata": {},
     "output_type": "execute_result"
    }
   ],
   "source": [
    "fraud.Amount.describe()"
   ]
  },
  {
   "cell_type": "markdown",
   "id": "6460f162",
   "metadata": {},
   "source": [
    "Taking a sample dataset containing similar distribution of normal/valid transactions and Fraudulent transaction"
   ]
  },
  {
   "cell_type": "code",
   "execution_count": 7,
   "id": "02cb850b",
   "metadata": {},
   "outputs": [],
   "source": [
    "valid_sample=valid.sample(n=492)"
   ]
  },
  {
   "cell_type": "code",
   "execution_count": 8,
   "id": "b74e72c4",
   "metadata": {},
   "outputs": [
    {
     "data": {
      "text/html": [
       "<div>\n",
       "<style scoped>\n",
       "    .dataframe tbody tr th:only-of-type {\n",
       "        vertical-align: middle;\n",
       "    }\n",
       "\n",
       "    .dataframe tbody tr th {\n",
       "        vertical-align: top;\n",
       "    }\n",
       "\n",
       "    .dataframe thead th {\n",
       "        text-align: right;\n",
       "    }\n",
       "</style>\n",
       "<table border=\"1\" class=\"dataframe\">\n",
       "  <thead>\n",
       "    <tr style=\"text-align: right;\">\n",
       "      <th></th>\n",
       "      <th>Time</th>\n",
       "      <th>V1</th>\n",
       "      <th>V2</th>\n",
       "      <th>V3</th>\n",
       "      <th>V4</th>\n",
       "      <th>V5</th>\n",
       "      <th>V6</th>\n",
       "      <th>V7</th>\n",
       "      <th>V8</th>\n",
       "      <th>V9</th>\n",
       "      <th>...</th>\n",
       "      <th>V21</th>\n",
       "      <th>V22</th>\n",
       "      <th>V23</th>\n",
       "      <th>V24</th>\n",
       "      <th>V25</th>\n",
       "      <th>V26</th>\n",
       "      <th>V27</th>\n",
       "      <th>V28</th>\n",
       "      <th>Amount</th>\n",
       "      <th>Class</th>\n",
       "    </tr>\n",
       "  </thead>\n",
       "  <tbody>\n",
       "    <tr>\n",
       "      <th>196135</th>\n",
       "      <td>131371.0</td>\n",
       "      <td>-4.498984</td>\n",
       "      <td>4.476372</td>\n",
       "      <td>-2.998047</td>\n",
       "      <td>-1.010279</td>\n",
       "      <td>-1.255762</td>\n",
       "      <td>-1.575651</td>\n",
       "      <td>-0.477815</td>\n",
       "      <td>1.420115</td>\n",
       "      <td>1.871397</td>\n",
       "      <td>...</td>\n",
       "      <td>0.216848</td>\n",
       "      <td>1.104106</td>\n",
       "      <td>0.305251</td>\n",
       "      <td>-0.013045</td>\n",
       "      <td>-0.036842</td>\n",
       "      <td>-0.187365</td>\n",
       "      <td>0.977029</td>\n",
       "      <td>0.858075</td>\n",
       "      <td>1.25</td>\n",
       "      <td>0</td>\n",
       "    </tr>\n",
       "    <tr>\n",
       "      <th>94854</th>\n",
       "      <td>65059.0</td>\n",
       "      <td>1.275771</td>\n",
       "      <td>0.272247</td>\n",
       "      <td>-0.062659</td>\n",
       "      <td>0.170127</td>\n",
       "      <td>-0.259263</td>\n",
       "      <td>-1.576522</td>\n",
       "      <td>0.544576</td>\n",
       "      <td>-0.493496</td>\n",
       "      <td>-0.359425</td>\n",
       "      <td>...</td>\n",
       "      <td>-0.004563</td>\n",
       "      <td>0.042584</td>\n",
       "      <td>-0.071541</td>\n",
       "      <td>0.828678</td>\n",
       "      <td>0.544160</td>\n",
       "      <td>1.044916</td>\n",
       "      <td>-0.107404</td>\n",
       "      <td>-0.000906</td>\n",
       "      <td>19.95</td>\n",
       "      <td>0</td>\n",
       "    </tr>\n",
       "    <tr>\n",
       "      <th>215093</th>\n",
       "      <td>139934.0</td>\n",
       "      <td>-0.120435</td>\n",
       "      <td>-0.648825</td>\n",
       "      <td>0.408642</td>\n",
       "      <td>0.953530</td>\n",
       "      <td>-1.118513</td>\n",
       "      <td>1.079195</td>\n",
       "      <td>0.649374</td>\n",
       "      <td>0.182474</td>\n",
       "      <td>0.209202</td>\n",
       "      <td>...</td>\n",
       "      <td>0.608012</td>\n",
       "      <td>1.445331</td>\n",
       "      <td>0.871743</td>\n",
       "      <td>0.730023</td>\n",
       "      <td>-1.508063</td>\n",
       "      <td>0.304572</td>\n",
       "      <td>0.250391</td>\n",
       "      <td>0.319658</td>\n",
       "      <td>323.86</td>\n",
       "      <td>0</td>\n",
       "    </tr>\n",
       "    <tr>\n",
       "      <th>34580</th>\n",
       "      <td>37734.0</td>\n",
       "      <td>-1.382657</td>\n",
       "      <td>0.455951</td>\n",
       "      <td>2.135555</td>\n",
       "      <td>1.586594</td>\n",
       "      <td>1.147205</td>\n",
       "      <td>-1.020750</td>\n",
       "      <td>0.404396</td>\n",
       "      <td>0.062625</td>\n",
       "      <td>-1.265285</td>\n",
       "      <td>...</td>\n",
       "      <td>0.169145</td>\n",
       "      <td>0.078797</td>\n",
       "      <td>-0.205642</td>\n",
       "      <td>0.365008</td>\n",
       "      <td>0.588350</td>\n",
       "      <td>-0.014928</td>\n",
       "      <td>-0.031087</td>\n",
       "      <td>0.078234</td>\n",
       "      <td>10.65</td>\n",
       "      <td>0</td>\n",
       "    </tr>\n",
       "    <tr>\n",
       "      <th>3778</th>\n",
       "      <td>3276.0</td>\n",
       "      <td>0.161685</td>\n",
       "      <td>1.092517</td>\n",
       "      <td>0.611808</td>\n",
       "      <td>1.186926</td>\n",
       "      <td>0.099792</td>\n",
       "      <td>0.228610</td>\n",
       "      <td>-0.130081</td>\n",
       "      <td>-1.797563</td>\n",
       "      <td>-0.499606</td>\n",
       "      <td>...</td>\n",
       "      <td>1.575581</td>\n",
       "      <td>-0.251976</td>\n",
       "      <td>-0.283132</td>\n",
       "      <td>-0.414757</td>\n",
       "      <td>1.023023</td>\n",
       "      <td>-0.047064</td>\n",
       "      <td>0.256293</td>\n",
       "      <td>0.228392</td>\n",
       "      <td>29.99</td>\n",
       "      <td>0</td>\n",
       "    </tr>\n",
       "  </tbody>\n",
       "</table>\n",
       "<p>5 rows × 31 columns</p>\n",
       "</div>"
      ],
      "text/plain": [
       "            Time        V1        V2        V3        V4        V5        V6  \\\n",
       "196135  131371.0 -4.498984  4.476372 -2.998047 -1.010279 -1.255762 -1.575651   \n",
       "94854    65059.0  1.275771  0.272247 -0.062659  0.170127 -0.259263 -1.576522   \n",
       "215093  139934.0 -0.120435 -0.648825  0.408642  0.953530 -1.118513  1.079195   \n",
       "34580    37734.0 -1.382657  0.455951  2.135555  1.586594  1.147205 -1.020750   \n",
       "3778      3276.0  0.161685  1.092517  0.611808  1.186926  0.099792  0.228610   \n",
       "\n",
       "              V7        V8        V9  ...       V21       V22       V23  \\\n",
       "196135 -0.477815  1.420115  1.871397  ...  0.216848  1.104106  0.305251   \n",
       "94854   0.544576 -0.493496 -0.359425  ... -0.004563  0.042584 -0.071541   \n",
       "215093  0.649374  0.182474  0.209202  ...  0.608012  1.445331  0.871743   \n",
       "34580   0.404396  0.062625 -1.265285  ...  0.169145  0.078797 -0.205642   \n",
       "3778   -0.130081 -1.797563 -0.499606  ...  1.575581 -0.251976 -0.283132   \n",
       "\n",
       "             V24       V25       V26       V27       V28  Amount  Class  \n",
       "196135 -0.013045 -0.036842 -0.187365  0.977029  0.858075    1.25      0  \n",
       "94854   0.828678  0.544160  1.044916 -0.107404 -0.000906   19.95      0  \n",
       "215093  0.730023 -1.508063  0.304572  0.250391  0.319658  323.86      0  \n",
       "34580   0.365008  0.588350 -0.014928 -0.031087  0.078234   10.65      0  \n",
       "3778   -0.414757  1.023023 -0.047064  0.256293  0.228392   29.99      0  \n",
       "\n",
       "[5 rows x 31 columns]"
      ]
     },
     "execution_count": 8,
     "metadata": {},
     "output_type": "execute_result"
    }
   ],
   "source": [
    "#concatenating two dataframes\n",
    "final_data=pd.concat([valid_sample,fraud], axis=0)\n",
    "final_data.head()"
   ]
  },
  {
   "cell_type": "code",
   "execution_count": 9,
   "id": "8eb9d584",
   "metadata": {},
   "outputs": [
    {
     "data": {
      "text/html": [
       "<div>\n",
       "<style scoped>\n",
       "    .dataframe tbody tr th:only-of-type {\n",
       "        vertical-align: middle;\n",
       "    }\n",
       "\n",
       "    .dataframe tbody tr th {\n",
       "        vertical-align: top;\n",
       "    }\n",
       "\n",
       "    .dataframe thead th {\n",
       "        text-align: right;\n",
       "    }\n",
       "</style>\n",
       "<table border=\"1\" class=\"dataframe\">\n",
       "  <thead>\n",
       "    <tr style=\"text-align: right;\">\n",
       "      <th></th>\n",
       "      <th>Time</th>\n",
       "      <th>V1</th>\n",
       "      <th>V2</th>\n",
       "      <th>V3</th>\n",
       "      <th>V4</th>\n",
       "      <th>V5</th>\n",
       "      <th>V6</th>\n",
       "      <th>V7</th>\n",
       "      <th>V8</th>\n",
       "      <th>V9</th>\n",
       "      <th>...</th>\n",
       "      <th>V20</th>\n",
       "      <th>V21</th>\n",
       "      <th>V22</th>\n",
       "      <th>V23</th>\n",
       "      <th>V24</th>\n",
       "      <th>V25</th>\n",
       "      <th>V26</th>\n",
       "      <th>V27</th>\n",
       "      <th>V28</th>\n",
       "      <th>Amount</th>\n",
       "    </tr>\n",
       "    <tr>\n",
       "      <th>Class</th>\n",
       "      <th></th>\n",
       "      <th></th>\n",
       "      <th></th>\n",
       "      <th></th>\n",
       "      <th></th>\n",
       "      <th></th>\n",
       "      <th></th>\n",
       "      <th></th>\n",
       "      <th></th>\n",
       "      <th></th>\n",
       "      <th></th>\n",
       "      <th></th>\n",
       "      <th></th>\n",
       "      <th></th>\n",
       "      <th></th>\n",
       "      <th></th>\n",
       "      <th></th>\n",
       "      <th></th>\n",
       "      <th></th>\n",
       "      <th></th>\n",
       "      <th></th>\n",
       "    </tr>\n",
       "  </thead>\n",
       "  <tbody>\n",
       "    <tr>\n",
       "      <th>0</th>\n",
       "      <td>94497.489837</td>\n",
       "      <td>0.010703</td>\n",
       "      <td>0.044271</td>\n",
       "      <td>-0.063798</td>\n",
       "      <td>-0.004880</td>\n",
       "      <td>-0.004257</td>\n",
       "      <td>0.014846</td>\n",
       "      <td>-0.013307</td>\n",
       "      <td>0.031941</td>\n",
       "      <td>-0.017351</td>\n",
       "      <td>...</td>\n",
       "      <td>0.008457</td>\n",
       "      <td>-0.004190</td>\n",
       "      <td>0.009954</td>\n",
       "      <td>0.010450</td>\n",
       "      <td>-0.006672</td>\n",
       "      <td>-0.016600</td>\n",
       "      <td>0.020639</td>\n",
       "      <td>-0.024734</td>\n",
       "      <td>-0.010614</td>\n",
       "      <td>87.223801</td>\n",
       "    </tr>\n",
       "    <tr>\n",
       "      <th>1</th>\n",
       "      <td>80746.806911</td>\n",
       "      <td>-4.771948</td>\n",
       "      <td>3.623778</td>\n",
       "      <td>-7.033281</td>\n",
       "      <td>4.542029</td>\n",
       "      <td>-3.151225</td>\n",
       "      <td>-1.397737</td>\n",
       "      <td>-5.568731</td>\n",
       "      <td>0.570636</td>\n",
       "      <td>-2.581123</td>\n",
       "      <td>...</td>\n",
       "      <td>0.372319</td>\n",
       "      <td>0.713588</td>\n",
       "      <td>0.014049</td>\n",
       "      <td>-0.040308</td>\n",
       "      <td>-0.105130</td>\n",
       "      <td>0.041449</td>\n",
       "      <td>0.051648</td>\n",
       "      <td>0.170575</td>\n",
       "      <td>0.075667</td>\n",
       "      <td>122.211321</td>\n",
       "    </tr>\n",
       "  </tbody>\n",
       "</table>\n",
       "<p>2 rows × 30 columns</p>\n",
       "</div>"
      ],
      "text/plain": [
       "               Time        V1        V2        V3        V4        V5  \\\n",
       "Class                                                                   \n",
       "0      94497.489837  0.010703  0.044271 -0.063798 -0.004880 -0.004257   \n",
       "1      80746.806911 -4.771948  3.623778 -7.033281  4.542029 -3.151225   \n",
       "\n",
       "             V6        V7        V8        V9  ...       V20       V21  \\\n",
       "Class                                          ...                       \n",
       "0      0.014846 -0.013307  0.031941 -0.017351  ...  0.008457 -0.004190   \n",
       "1     -1.397737 -5.568731  0.570636 -2.581123  ...  0.372319  0.713588   \n",
       "\n",
       "            V22       V23       V24       V25       V26       V27       V28  \\\n",
       "Class                                                                         \n",
       "0      0.009954  0.010450 -0.006672 -0.016600  0.020639 -0.024734 -0.010614   \n",
       "1      0.014049 -0.040308 -0.105130  0.041449  0.051648  0.170575  0.075667   \n",
       "\n",
       "           Amount  \n",
       "Class              \n",
       "0       87.223801  \n",
       "1      122.211321  \n",
       "\n",
       "[2 rows x 30 columns]"
      ]
     },
     "execution_count": 9,
     "metadata": {},
     "output_type": "execute_result"
    }
   ],
   "source": [
    "final_data.groupby('Class').mean()"
   ]
  },
  {
   "cell_type": "markdown",
   "id": "5792d26b",
   "metadata": {},
   "source": [
    "Splitting the dataset into features and targets "
   ]
  },
  {
   "cell_type": "code",
   "execution_count": 10,
   "id": "4b7ed575",
   "metadata": {},
   "outputs": [],
   "source": [
    "X=final_data.drop(columns='Class',axis=1)\n",
    "Y=final_data['Class']"
   ]
  },
  {
   "cell_type": "code",
   "execution_count": 11,
   "id": "f9ef06c2",
   "metadata": {},
   "outputs": [
    {
     "name": "stdout",
     "output_type": "stream",
     "text": [
      "            Time        V1        V2        V3        V4        V5        V6  \\\n",
      "196135  131371.0 -4.498984  4.476372 -2.998047 -1.010279 -1.255762 -1.575651   \n",
      "94854    65059.0  1.275771  0.272247 -0.062659  0.170127 -0.259263 -1.576522   \n",
      "215093  139934.0 -0.120435 -0.648825  0.408642  0.953530 -1.118513  1.079195   \n",
      "34580    37734.0 -1.382657  0.455951  2.135555  1.586594  1.147205 -1.020750   \n",
      "3778      3276.0  0.161685  1.092517  0.611808  1.186926  0.099792  0.228610   \n",
      "...          ...       ...       ...       ...       ...       ...       ...   \n",
      "279863  169142.0 -1.927883  1.125653 -4.518331  1.749293 -1.566487 -2.010494   \n",
      "280143  169347.0  1.378559  1.289381 -5.004247  1.411850  0.442581 -1.326536   \n",
      "280149  169351.0 -0.676143  1.126366 -2.213700  0.468308 -1.120541 -0.003346   \n",
      "281144  169966.0 -3.113832  0.585864 -5.399730  1.817092 -0.840618 -2.943548   \n",
      "281674  170348.0  1.991976  0.158476 -2.583441  0.408670  1.151147 -0.096695   \n",
      "\n",
      "              V7        V8        V9  ...       V20       V21       V22  \\\n",
      "196135 -0.477815  1.420115  1.871397  ...  1.198656  0.216848  1.104106   \n",
      "94854   0.544576 -0.493496 -0.359425  ...  0.017547 -0.004563  0.042584   \n",
      "215093  0.649374  0.182474  0.209202  ...  0.893398  0.608012  1.445331   \n",
      "34580   0.404396  0.062625 -1.265285  ...  0.057360  0.169145  0.078797   \n",
      "3778   -0.130081 -1.797563 -0.499606  ... -0.177931  1.575581 -0.251976   \n",
      "...          ...       ...       ...  ...       ...       ...       ...   \n",
      "279863 -0.882850  0.697211 -2.064945  ...  1.252967  0.778584 -0.319189   \n",
      "280143 -1.413170  0.248525 -1.127396  ...  0.226138  0.370612  0.028234   \n",
      "280149 -2.234739  1.210158 -0.652250  ...  0.247968  0.751826  0.834108   \n",
      "281144 -2.208002  1.058733 -1.632333  ...  0.306271  0.583276 -0.269209   \n",
      "281674  0.223050 -0.068384  0.577829  ... -0.017652 -0.164350 -0.295135   \n",
      "\n",
      "             V23       V24       V25       V26       V27       V28  Amount  \n",
      "196135  0.305251 -0.013045 -0.036842 -0.187365  0.977029  0.858075    1.25  \n",
      "94854  -0.071541  0.828678  0.544160  1.044916 -0.107404 -0.000906   19.95  \n",
      "215093  0.871743  0.730023 -1.508063  0.304572  0.250391  0.319658  323.86  \n",
      "34580  -0.205642  0.365008  0.588350 -0.014928 -0.031087  0.078234   10.65  \n",
      "3778   -0.283132 -0.414757  1.023023 -0.047064  0.256293  0.228392   29.99  \n",
      "...          ...       ...       ...       ...       ...       ...     ...  \n",
      "279863  0.639419 -0.294885  0.537503  0.788395  0.292680  0.147968  390.00  \n",
      "280143 -0.145640 -0.081049  0.521875  0.739467  0.389152  0.186637    0.76  \n",
      "280149  0.190944  0.032070 -0.739695  0.471111  0.385107  0.194361   77.89  \n",
      "281144 -0.456108 -0.183659 -0.328168  0.606116  0.884876 -0.253700  245.00  \n",
      "281674 -0.072173 -0.450261  0.313267 -0.289617  0.002988 -0.015309   42.53  \n",
      "\n",
      "[984 rows x 30 columns]\n"
     ]
    }
   ],
   "source": [
    "print(X)"
   ]
  },
  {
   "cell_type": "code",
   "execution_count": 12,
   "id": "a39f43af",
   "metadata": {},
   "outputs": [
    {
     "name": "stdout",
     "output_type": "stream",
     "text": [
      "196135    0\n",
      "94854     0\n",
      "215093    0\n",
      "34580     0\n",
      "3778      0\n",
      "         ..\n",
      "279863    1\n",
      "280143    1\n",
      "280149    1\n",
      "281144    1\n",
      "281674    1\n",
      "Name: Class, Length: 984, dtype: int64\n"
     ]
    }
   ],
   "source": [
    "print(Y)"
   ]
  },
  {
   "cell_type": "markdown",
   "id": "84c45dfd",
   "metadata": {},
   "source": [
    "Split the dataset into training and testing sets"
   ]
  },
  {
   "cell_type": "code",
   "execution_count": 13,
   "id": "a47d018a",
   "metadata": {},
   "outputs": [],
   "source": [
    "X_train,X_test,Y_train,Y_test= train_test_split(X,Y, test_size=0.2,stratify=Y,random_state=3)"
   ]
  },
  {
   "cell_type": "markdown",
   "id": "5822f16a",
   "metadata": {},
   "source": [
    "Create and train the logistic regression model"
   ]
  },
  {
   "cell_type": "code",
   "execution_count": 14,
   "id": "f22e5591",
   "metadata": {},
   "outputs": [
    {
     "name": "stderr",
     "output_type": "stream",
     "text": [
      "C:\\ProgramData\\Anaconda3\\lib\\site-packages\\sklearn\\linear_model\\_logistic.py:814: ConvergenceWarning: lbfgs failed to converge (status=1):\n",
      "STOP: TOTAL NO. of ITERATIONS REACHED LIMIT.\n",
      "\n",
      "Increase the number of iterations (max_iter) or scale the data as shown in:\n",
      "    https://scikit-learn.org/stable/modules/preprocessing.html\n",
      "Please also refer to the documentation for alternative solver options:\n",
      "    https://scikit-learn.org/stable/modules/linear_model.html#logistic-regression\n",
      "  n_iter_i = _check_optimize_result(\n"
     ]
    },
    {
     "data": {
      "text/plain": [
       "LogisticRegression()"
      ]
     },
     "execution_count": 14,
     "metadata": {},
     "output_type": "execute_result"
    }
   ],
   "source": [
    "model=LogisticRegression()\n",
    "model.fit(X_train,Y_train)"
   ]
  },
  {
   "cell_type": "markdown",
   "id": "55bca103",
   "metadata": {},
   "source": [
    "Predict accuracy score "
   ]
  },
  {
   "cell_type": "code",
   "execution_count": 15,
   "id": "471728c6",
   "metadata": {},
   "outputs": [],
   "source": [
    "X_train_prediction=model.predict(X_train)\n",
    "training_accuracy=accuracy_score(X_train_prediction,Y_train)"
   ]
  },
  {
   "cell_type": "code",
   "execution_count": 16,
   "id": "8ea764b2",
   "metadata": {},
   "outputs": [
    {
     "name": "stdout",
     "output_type": "stream",
     "text": [
      "The accuracy score on Training Data :  0.940279542566709\n"
     ]
    }
   ],
   "source": [
    "print(\"The accuracy score on Training Data : \",training_accuracy)"
   ]
  },
  {
   "cell_type": "code",
   "execution_count": 17,
   "id": "9eb19110",
   "metadata": {},
   "outputs": [],
   "source": [
    "X_test_prediction=model.predict(X_test)\n",
    "test_accuracy=accuracy_score(X_test_prediction,Y_test)"
   ]
  },
  {
   "cell_type": "code",
   "execution_count": 18,
   "id": "4551e460",
   "metadata": {},
   "outputs": [
    {
     "name": "stdout",
     "output_type": "stream",
     "text": [
      "The accuracy score on Test Data :  0.9593908629441624\n"
     ]
    }
   ],
   "source": [
    "print(\"The accuracy score on Test Data : \",test_accuracy)"
   ]
  },
  {
   "cell_type": "markdown",
   "id": "0a756994",
   "metadata": {},
   "source": [
    " "
   ]
  },
  {
   "cell_type": "code",
   "execution_count": null,
   "id": "86e09194",
   "metadata": {},
   "outputs": [],
   "source": []
  }
 ],
 "metadata": {
  "kernelspec": {
   "display_name": "Python 3 (ipykernel)",
   "language": "python",
   "name": "python3"
  },
  "language_info": {
   "codemirror_mode": {
    "name": "ipython",
    "version": 3
   },
   "file_extension": ".py",
   "mimetype": "text/x-python",
   "name": "python",
   "nbconvert_exporter": "python",
   "pygments_lexer": "ipython3",
   "version": "3.9.12"
  }
 },
 "nbformat": 4,
 "nbformat_minor": 5
}
