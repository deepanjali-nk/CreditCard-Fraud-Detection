{
 "cells": [
  {
   "cell_type": "markdown",
   "id": "30c7fd62",
   "metadata": {},
   "source": [
    "# Credit Card Fraud Detection"
   ]
  },
  {
   "cell_type": "code",
   "execution_count": 2,
   "id": "838daf0d",
   "metadata": {},
   "outputs": [],
   "source": [
    "#importing necessary dependencies\n",
    "import numpy as np\n",
    "import pandas as pd\n",
    "import matplotlib.pyplot as plt\n",
    "from sklearn.model_selection import train_test_split\n",
    "from sklearn.linear_model import LogisticRegression\n",
    "from sklearn.metrics import accuracy_score"
   ]
  },
  {
   "cell_type": "code",
   "execution_count": 3,
   "id": "8a3d946f",
   "metadata": {},
   "outputs": [
    {
     "data": {
      "text/html": [
       "<div>\n",
       "<style scoped>\n",
       "    .dataframe tbody tr th:only-of-type {\n",
       "        vertical-align: middle;\n",
       "    }\n",
       "\n",
       "    .dataframe tbody tr th {\n",
       "        vertical-align: top;\n",
       "    }\n",
       "\n",
       "    .dataframe thead th {\n",
       "        text-align: right;\n",
       "    }\n",
       "</style>\n",
       "<table border=\"1\" class=\"dataframe\">\n",
       "  <thead>\n",
       "    <tr style=\"text-align: right;\">\n",
       "      <th></th>\n",
       "      <th>Time</th>\n",
       "      <th>V1</th>\n",
       "      <th>V2</th>\n",
       "      <th>V3</th>\n",
       "      <th>V4</th>\n",
       "      <th>V5</th>\n",
       "      <th>V6</th>\n",
       "      <th>V7</th>\n",
       "      <th>V8</th>\n",
       "      <th>V9</th>\n",
       "      <th>...</th>\n",
       "      <th>V21</th>\n",
       "      <th>V22</th>\n",
       "      <th>V23</th>\n",
       "      <th>V24</th>\n",
       "      <th>V25</th>\n",
       "      <th>V26</th>\n",
       "      <th>V27</th>\n",
       "      <th>V28</th>\n",
       "      <th>Amount</th>\n",
       "      <th>Class</th>\n",
       "    </tr>\n",
       "  </thead>\n",
       "  <tbody>\n",
       "    <tr>\n",
       "      <th>0</th>\n",
       "      <td>0.0</td>\n",
       "      <td>-1.359807</td>\n",
       "      <td>-0.072781</td>\n",
       "      <td>2.536347</td>\n",
       "      <td>1.378155</td>\n",
       "      <td>-0.338321</td>\n",
       "      <td>0.462388</td>\n",
       "      <td>0.239599</td>\n",
       "      <td>0.098698</td>\n",
       "      <td>0.363787</td>\n",
       "      <td>...</td>\n",
       "      <td>-0.018307</td>\n",
       "      <td>0.277838</td>\n",
       "      <td>-0.110474</td>\n",
       "      <td>0.066928</td>\n",
       "      <td>0.128539</td>\n",
       "      <td>-0.189115</td>\n",
       "      <td>0.133558</td>\n",
       "      <td>-0.021053</td>\n",
       "      <td>149.62</td>\n",
       "      <td>0</td>\n",
       "    </tr>\n",
       "    <tr>\n",
       "      <th>1</th>\n",
       "      <td>0.0</td>\n",
       "      <td>1.191857</td>\n",
       "      <td>0.266151</td>\n",
       "      <td>0.166480</td>\n",
       "      <td>0.448154</td>\n",
       "      <td>0.060018</td>\n",
       "      <td>-0.082361</td>\n",
       "      <td>-0.078803</td>\n",
       "      <td>0.085102</td>\n",
       "      <td>-0.255425</td>\n",
       "      <td>...</td>\n",
       "      <td>-0.225775</td>\n",
       "      <td>-0.638672</td>\n",
       "      <td>0.101288</td>\n",
       "      <td>-0.339846</td>\n",
       "      <td>0.167170</td>\n",
       "      <td>0.125895</td>\n",
       "      <td>-0.008983</td>\n",
       "      <td>0.014724</td>\n",
       "      <td>2.69</td>\n",
       "      <td>0</td>\n",
       "    </tr>\n",
       "  </tbody>\n",
       "</table>\n",
       "<p>2 rows × 31 columns</p>\n",
       "</div>"
      ],
      "text/plain": [
       "   Time        V1        V2        V3        V4        V5        V6        V7  \\\n",
       "0   0.0 -1.359807 -0.072781  2.536347  1.378155 -0.338321  0.462388  0.239599   \n",
       "1   0.0  1.191857  0.266151  0.166480  0.448154  0.060018 -0.082361 -0.078803   \n",
       "\n",
       "         V8        V9  ...       V21       V22       V23       V24       V25  \\\n",
       "0  0.098698  0.363787  ... -0.018307  0.277838 -0.110474  0.066928  0.128539   \n",
       "1  0.085102 -0.255425  ... -0.225775 -0.638672  0.101288 -0.339846  0.167170   \n",
       "\n",
       "        V26       V27       V28  Amount  Class  \n",
       "0 -0.189115  0.133558 -0.021053  149.62      0  \n",
       "1  0.125895 -0.008983  0.014724    2.69      0  \n",
       "\n",
       "[2 rows x 31 columns]"
      ]
     },
     "execution_count": 3,
     "metadata": {},
     "output_type": "execute_result"
    }
   ],
   "source": [
    "#load dataset\n",
    "data=pd.read_csv('creditcard.csv')\n",
    "data.head(2)\n"
   ]
  },
  {
   "cell_type": "code",
   "execution_count": 4,
   "id": "f64c3605",
   "metadata": {},
   "outputs": [
    {
     "name": "stdout",
     "output_type": "stream",
     "text": [
      "<class 'pandas.core.frame.DataFrame'>\n",
      "RangeIndex: 284807 entries, 0 to 284806\n",
      "Data columns (total 31 columns):\n",
      " #   Column  Non-Null Count   Dtype  \n",
      "---  ------  --------------   -----  \n",
      " 0   Time    284807 non-null  float64\n",
      " 1   V1      284807 non-null  float64\n",
      " 2   V2      284807 non-null  float64\n",
      " 3   V3      284807 non-null  float64\n",
      " 4   V4      284807 non-null  float64\n",
      " 5   V5      284807 non-null  float64\n",
      " 6   V6      284807 non-null  float64\n",
      " 7   V7      284807 non-null  float64\n",
      " 8   V8      284807 non-null  float64\n",
      " 9   V9      284807 non-null  float64\n",
      " 10  V10     284807 non-null  float64\n",
      " 11  V11     284807 non-null  float64\n",
      " 12  V12     284807 non-null  float64\n",
      " 13  V13     284807 non-null  float64\n",
      " 14  V14     284807 non-null  float64\n",
      " 15  V15     284807 non-null  float64\n",
      " 16  V16     284807 non-null  float64\n",
      " 17  V17     284807 non-null  float64\n",
      " 18  V18     284807 non-null  float64\n",
      " 19  V19     284807 non-null  float64\n",
      " 20  V20     284807 non-null  float64\n",
      " 21  V21     284807 non-null  float64\n",
      " 22  V22     284807 non-null  float64\n",
      " 23  V23     284807 non-null  float64\n",
      " 24  V24     284807 non-null  float64\n",
      " 25  V25     284807 non-null  float64\n",
      " 26  V26     284807 non-null  float64\n",
      " 27  V27     284807 non-null  float64\n",
      " 28  V28     284807 non-null  float64\n",
      " 29  Amount  284807 non-null  float64\n",
      " 30  Class   284807 non-null  int64  \n",
      "dtypes: float64(30), int64(1)\n",
      "memory usage: 67.4 MB\n"
     ]
    },
    {
     "data": {
      "text/plain": [
       "0    284315\n",
       "1       492\n",
       "Name: Class, dtype: int64"
      ]
     },
     "execution_count": 4,
     "metadata": {},
     "output_type": "execute_result"
    }
   ],
   "source": [
    "#information about data\n",
    "data.info()\n",
    "data['Class'].value_counts()"
   ]
  },
  {
   "cell_type": "code",
   "execution_count": 5,
   "id": "020065a6",
   "metadata": {},
   "outputs": [
    {
     "name": "stdout",
     "output_type": "stream",
     "text": [
      "(284315, 31) (492, 31)\n"
     ]
    }
   ],
   "source": [
    "#since 0 represents a normal transaction and 1 represents a fraudulent transcation, classifying the data for analysis \n",
    "valid=data[data.Class==0]\n",
    "fraud=data[data.Class==1]\n",
    "print(valid.shape,fraud.shape)\n"
   ]
  },
  {
   "cell_type": "code",
   "execution_count": 6,
   "id": "9cef9699",
   "metadata": {},
   "outputs": [
    {
     "data": {
      "text/plain": [
       "count    284315.000000\n",
       "mean         88.291022\n",
       "std         250.105092\n",
       "min           0.000000\n",
       "25%           5.650000\n",
       "50%          22.000000\n",
       "75%          77.050000\n",
       "max       25691.160000\n",
       "Name: Amount, dtype: float64"
      ]
     },
     "execution_count": 6,
     "metadata": {},
     "output_type": "execute_result"
    }
   ],
   "source": [
    "valid.Amount.describe()"
   ]
  },
  {
   "cell_type": "code",
   "execution_count": 7,
   "id": "5a633a06",
   "metadata": {},
   "outputs": [
    {
     "data": {
      "text/plain": [
       "count     492.000000\n",
       "mean      122.211321\n",
       "std       256.683288\n",
       "min         0.000000\n",
       "25%         1.000000\n",
       "50%         9.250000\n",
       "75%       105.890000\n",
       "max      2125.870000\n",
       "Name: Amount, dtype: float64"
      ]
     },
     "execution_count": 7,
     "metadata": {},
     "output_type": "execute_result"
    }
   ],
   "source": [
    "fraud.Amount.describe()"
   ]
  },
  {
   "cell_type": "markdown",
   "id": "6460f162",
   "metadata": {},
   "source": [
    "Taking a sample dataset containing similar distribution of normal/valid transactions and Fraudulent transaction"
   ]
  },
  {
   "cell_type": "code",
   "execution_count": 8,
   "id": "02cb850b",
   "metadata": {},
   "outputs": [],
   "source": [
    "valid_sample=valid.sample(n=492)"
   ]
  },
  {
   "cell_type": "code",
   "execution_count": 9,
   "id": "b74e72c4",
   "metadata": {},
   "outputs": [
    {
     "data": {
      "text/html": [
       "<div>\n",
       "<style scoped>\n",
       "    .dataframe tbody tr th:only-of-type {\n",
       "        vertical-align: middle;\n",
       "    }\n",
       "\n",
       "    .dataframe tbody tr th {\n",
       "        vertical-align: top;\n",
       "    }\n",
       "\n",
       "    .dataframe thead th {\n",
       "        text-align: right;\n",
       "    }\n",
       "</style>\n",
       "<table border=\"1\" class=\"dataframe\">\n",
       "  <thead>\n",
       "    <tr style=\"text-align: right;\">\n",
       "      <th></th>\n",
       "      <th>Time</th>\n",
       "      <th>V1</th>\n",
       "      <th>V2</th>\n",
       "      <th>V3</th>\n",
       "      <th>V4</th>\n",
       "      <th>V5</th>\n",
       "      <th>V6</th>\n",
       "      <th>V7</th>\n",
       "      <th>V8</th>\n",
       "      <th>V9</th>\n",
       "      <th>...</th>\n",
       "      <th>V21</th>\n",
       "      <th>V22</th>\n",
       "      <th>V23</th>\n",
       "      <th>V24</th>\n",
       "      <th>V25</th>\n",
       "      <th>V26</th>\n",
       "      <th>V27</th>\n",
       "      <th>V28</th>\n",
       "      <th>Amount</th>\n",
       "      <th>Class</th>\n",
       "    </tr>\n",
       "  </thead>\n",
       "  <tbody>\n",
       "    <tr>\n",
       "      <th>256591</th>\n",
       "      <td>157767.0</td>\n",
       "      <td>-0.528298</td>\n",
       "      <td>-0.731876</td>\n",
       "      <td>0.017854</td>\n",
       "      <td>-3.491080</td>\n",
       "      <td>0.853715</td>\n",
       "      <td>-0.596612</td>\n",
       "      <td>0.098128</td>\n",
       "      <td>-0.022334</td>\n",
       "      <td>-0.237322</td>\n",
       "      <td>...</td>\n",
       "      <td>0.007164</td>\n",
       "      <td>0.487273</td>\n",
       "      <td>-0.522417</td>\n",
       "      <td>-1.354784</td>\n",
       "      <td>0.558119</td>\n",
       "      <td>0.162606</td>\n",
       "      <td>0.095420</td>\n",
       "      <td>0.102829</td>\n",
       "      <td>15.17</td>\n",
       "      <td>0</td>\n",
       "    </tr>\n",
       "    <tr>\n",
       "      <th>181858</th>\n",
       "      <td>125146.0</td>\n",
       "      <td>-1.634320</td>\n",
       "      <td>-0.447129</td>\n",
       "      <td>1.315312</td>\n",
       "      <td>-2.143882</td>\n",
       "      <td>0.837873</td>\n",
       "      <td>-0.692988</td>\n",
       "      <td>0.056571</td>\n",
       "      <td>0.124489</td>\n",
       "      <td>-1.271957</td>\n",
       "      <td>...</td>\n",
       "      <td>-0.828984</td>\n",
       "      <td>-2.004739</td>\n",
       "      <td>-0.094761</td>\n",
       "      <td>0.597199</td>\n",
       "      <td>0.167416</td>\n",
       "      <td>-0.530147</td>\n",
       "      <td>0.251773</td>\n",
       "      <td>0.069673</td>\n",
       "      <td>58.18</td>\n",
       "      <td>0</td>\n",
       "    </tr>\n",
       "    <tr>\n",
       "      <th>170245</th>\n",
       "      <td>120089.0</td>\n",
       "      <td>2.294695</td>\n",
       "      <td>-0.570808</td>\n",
       "      <td>-2.527375</td>\n",
       "      <td>-1.014332</td>\n",
       "      <td>0.172818</td>\n",
       "      <td>-1.496824</td>\n",
       "      <td>0.261161</td>\n",
       "      <td>-0.451515</td>\n",
       "      <td>-1.015845</td>\n",
       "      <td>...</td>\n",
       "      <td>0.481440</td>\n",
       "      <td>1.383841</td>\n",
       "      <td>-0.250283</td>\n",
       "      <td>-0.282524</td>\n",
       "      <td>0.719397</td>\n",
       "      <td>0.307609</td>\n",
       "      <td>-0.109606</td>\n",
       "      <td>-0.112056</td>\n",
       "      <td>1.79</td>\n",
       "      <td>0</td>\n",
       "    </tr>\n",
       "    <tr>\n",
       "      <th>129658</th>\n",
       "      <td>79173.0</td>\n",
       "      <td>1.131031</td>\n",
       "      <td>0.034660</td>\n",
       "      <td>0.738269</td>\n",
       "      <td>0.988709</td>\n",
       "      <td>-0.795204</td>\n",
       "      <td>-0.997443</td>\n",
       "      <td>0.076801</td>\n",
       "      <td>-0.215621</td>\n",
       "      <td>0.330045</td>\n",
       "      <td>...</td>\n",
       "      <td>-0.169801</td>\n",
       "      <td>-0.352971</td>\n",
       "      <td>0.041915</td>\n",
       "      <td>0.968439</td>\n",
       "      <td>0.391506</td>\n",
       "      <td>0.230748</td>\n",
       "      <td>-0.023755</td>\n",
       "      <td>0.025324</td>\n",
       "      <td>39.84</td>\n",
       "      <td>0</td>\n",
       "    </tr>\n",
       "    <tr>\n",
       "      <th>112047</th>\n",
       "      <td>72488.0</td>\n",
       "      <td>-0.705757</td>\n",
       "      <td>0.607085</td>\n",
       "      <td>1.372398</td>\n",
       "      <td>-1.212049</td>\n",
       "      <td>-0.012402</td>\n",
       "      <td>-0.318445</td>\n",
       "      <td>0.460012</td>\n",
       "      <td>0.141117</td>\n",
       "      <td>0.320315</td>\n",
       "      <td>...</td>\n",
       "      <td>-0.013709</td>\n",
       "      <td>0.155434</td>\n",
       "      <td>-0.236904</td>\n",
       "      <td>0.080626</td>\n",
       "      <td>-0.181921</td>\n",
       "      <td>0.891296</td>\n",
       "      <td>0.144108</td>\n",
       "      <td>0.161836</td>\n",
       "      <td>5.00</td>\n",
       "      <td>0</td>\n",
       "    </tr>\n",
       "  </tbody>\n",
       "</table>\n",
       "<p>5 rows × 31 columns</p>\n",
       "</div>"
      ],
      "text/plain": [
       "            Time        V1        V2        V3        V4        V5        V6  \\\n",
       "256591  157767.0 -0.528298 -0.731876  0.017854 -3.491080  0.853715 -0.596612   \n",
       "181858  125146.0 -1.634320 -0.447129  1.315312 -2.143882  0.837873 -0.692988   \n",
       "170245  120089.0  2.294695 -0.570808 -2.527375 -1.014332  0.172818 -1.496824   \n",
       "129658   79173.0  1.131031  0.034660  0.738269  0.988709 -0.795204 -0.997443   \n",
       "112047   72488.0 -0.705757  0.607085  1.372398 -1.212049 -0.012402 -0.318445   \n",
       "\n",
       "              V7        V8        V9  ...       V21       V22       V23  \\\n",
       "256591  0.098128 -0.022334 -0.237322  ...  0.007164  0.487273 -0.522417   \n",
       "181858  0.056571  0.124489 -1.271957  ... -0.828984 -2.004739 -0.094761   \n",
       "170245  0.261161 -0.451515 -1.015845  ...  0.481440  1.383841 -0.250283   \n",
       "129658  0.076801 -0.215621  0.330045  ... -0.169801 -0.352971  0.041915   \n",
       "112047  0.460012  0.141117  0.320315  ... -0.013709  0.155434 -0.236904   \n",
       "\n",
       "             V24       V25       V26       V27       V28  Amount  Class  \n",
       "256591 -1.354784  0.558119  0.162606  0.095420  0.102829   15.17      0  \n",
       "181858  0.597199  0.167416 -0.530147  0.251773  0.069673   58.18      0  \n",
       "170245 -0.282524  0.719397  0.307609 -0.109606 -0.112056    1.79      0  \n",
       "129658  0.968439  0.391506  0.230748 -0.023755  0.025324   39.84      0  \n",
       "112047  0.080626 -0.181921  0.891296  0.144108  0.161836    5.00      0  \n",
       "\n",
       "[5 rows x 31 columns]"
      ]
     },
     "execution_count": 9,
     "metadata": {},
     "output_type": "execute_result"
    }
   ],
   "source": [
    "#concatenating two dataframes\n",
    "final_data=pd.concat([valid_sample,fraud], axis=0)\n",
    "final_data.head()"
   ]
  },
  {
   "cell_type": "code",
   "execution_count": 10,
   "id": "8eb9d584",
   "metadata": {},
   "outputs": [
    {
     "data": {
      "text/html": [
       "<div>\n",
       "<style scoped>\n",
       "    .dataframe tbody tr th:only-of-type {\n",
       "        vertical-align: middle;\n",
       "    }\n",
       "\n",
       "    .dataframe tbody tr th {\n",
       "        vertical-align: top;\n",
       "    }\n",
       "\n",
       "    .dataframe thead th {\n",
       "        text-align: right;\n",
       "    }\n",
       "</style>\n",
       "<table border=\"1\" class=\"dataframe\">\n",
       "  <thead>\n",
       "    <tr style=\"text-align: right;\">\n",
       "      <th></th>\n",
       "      <th>Time</th>\n",
       "      <th>V1</th>\n",
       "      <th>V2</th>\n",
       "      <th>V3</th>\n",
       "      <th>V4</th>\n",
       "      <th>V5</th>\n",
       "      <th>V6</th>\n",
       "      <th>V7</th>\n",
       "      <th>V8</th>\n",
       "      <th>V9</th>\n",
       "      <th>...</th>\n",
       "      <th>V20</th>\n",
       "      <th>V21</th>\n",
       "      <th>V22</th>\n",
       "      <th>V23</th>\n",
       "      <th>V24</th>\n",
       "      <th>V25</th>\n",
       "      <th>V26</th>\n",
       "      <th>V27</th>\n",
       "      <th>V28</th>\n",
       "      <th>Amount</th>\n",
       "    </tr>\n",
       "    <tr>\n",
       "      <th>Class</th>\n",
       "      <th></th>\n",
       "      <th></th>\n",
       "      <th></th>\n",
       "      <th></th>\n",
       "      <th></th>\n",
       "      <th></th>\n",
       "      <th></th>\n",
       "      <th></th>\n",
       "      <th></th>\n",
       "      <th></th>\n",
       "      <th></th>\n",
       "      <th></th>\n",
       "      <th></th>\n",
       "      <th></th>\n",
       "      <th></th>\n",
       "      <th></th>\n",
       "      <th></th>\n",
       "      <th></th>\n",
       "      <th></th>\n",
       "      <th></th>\n",
       "      <th></th>\n",
       "    </tr>\n",
       "  </thead>\n",
       "  <tbody>\n",
       "    <tr>\n",
       "      <th>0</th>\n",
       "      <td>96549.912602</td>\n",
       "      <td>0.008334</td>\n",
       "      <td>-0.026282</td>\n",
       "      <td>0.022700</td>\n",
       "      <td>-0.091491</td>\n",
       "      <td>-0.089624</td>\n",
       "      <td>0.005897</td>\n",
       "      <td>-0.012958</td>\n",
       "      <td>-0.132810</td>\n",
       "      <td>0.009070</td>\n",
       "      <td>...</td>\n",
       "      <td>0.004683</td>\n",
       "      <td>-0.014175</td>\n",
       "      <td>0.040652</td>\n",
       "      <td>-0.014521</td>\n",
       "      <td>-0.027961</td>\n",
       "      <td>0.011726</td>\n",
       "      <td>0.002077</td>\n",
       "      <td>0.006015</td>\n",
       "      <td>0.016164</td>\n",
       "      <td>92.389289</td>\n",
       "    </tr>\n",
       "    <tr>\n",
       "      <th>1</th>\n",
       "      <td>80746.806911</td>\n",
       "      <td>-4.771948</td>\n",
       "      <td>3.623778</td>\n",
       "      <td>-7.033281</td>\n",
       "      <td>4.542029</td>\n",
       "      <td>-3.151225</td>\n",
       "      <td>-1.397737</td>\n",
       "      <td>-5.568731</td>\n",
       "      <td>0.570636</td>\n",
       "      <td>-2.581123</td>\n",
       "      <td>...</td>\n",
       "      <td>0.372319</td>\n",
       "      <td>0.713588</td>\n",
       "      <td>0.014049</td>\n",
       "      <td>-0.040308</td>\n",
       "      <td>-0.105130</td>\n",
       "      <td>0.041449</td>\n",
       "      <td>0.051648</td>\n",
       "      <td>0.170575</td>\n",
       "      <td>0.075667</td>\n",
       "      <td>122.211321</td>\n",
       "    </tr>\n",
       "  </tbody>\n",
       "</table>\n",
       "<p>2 rows × 30 columns</p>\n",
       "</div>"
      ],
      "text/plain": [
       "               Time        V1        V2        V3        V4        V5  \\\n",
       "Class                                                                   \n",
       "0      96549.912602  0.008334 -0.026282  0.022700 -0.091491 -0.089624   \n",
       "1      80746.806911 -4.771948  3.623778 -7.033281  4.542029 -3.151225   \n",
       "\n",
       "             V6        V7        V8        V9  ...       V20       V21  \\\n",
       "Class                                          ...                       \n",
       "0      0.005897 -0.012958 -0.132810  0.009070  ...  0.004683 -0.014175   \n",
       "1     -1.397737 -5.568731  0.570636 -2.581123  ...  0.372319  0.713588   \n",
       "\n",
       "            V22       V23       V24       V25       V26       V27       V28  \\\n",
       "Class                                                                         \n",
       "0      0.040652 -0.014521 -0.027961  0.011726  0.002077  0.006015  0.016164   \n",
       "1      0.014049 -0.040308 -0.105130  0.041449  0.051648  0.170575  0.075667   \n",
       "\n",
       "           Amount  \n",
       "Class              \n",
       "0       92.389289  \n",
       "1      122.211321  \n",
       "\n",
       "[2 rows x 30 columns]"
      ]
     },
     "execution_count": 10,
     "metadata": {},
     "output_type": "execute_result"
    }
   ],
   "source": [
    "final_data.groupby('Class').mean()"
   ]
  },
  {
   "cell_type": "markdown",
   "id": "5792d26b",
   "metadata": {},
   "source": [
    "Splitting the dataset into features and targets "
   ]
  },
  {
   "cell_type": "code",
   "execution_count": 11,
   "id": "4b7ed575",
   "metadata": {},
   "outputs": [],
   "source": [
    "X=final_data.drop(columns='Class',axis=1)\n",
    "Y=final_data['Class']"
   ]
  },
  {
   "cell_type": "code",
   "execution_count": 12,
   "id": "f9ef06c2",
   "metadata": {},
   "outputs": [
    {
     "name": "stdout",
     "output_type": "stream",
     "text": [
      "            Time        V1        V2        V3        V4        V5        V6  \\\n",
      "256591  157767.0 -0.528298 -0.731876  0.017854 -3.491080  0.853715 -0.596612   \n",
      "181858  125146.0 -1.634320 -0.447129  1.315312 -2.143882  0.837873 -0.692988   \n",
      "170245  120089.0  2.294695 -0.570808 -2.527375 -1.014332  0.172818 -1.496824   \n",
      "129658   79173.0  1.131031  0.034660  0.738269  0.988709 -0.795204 -0.997443   \n",
      "112047   72488.0 -0.705757  0.607085  1.372398 -1.212049 -0.012402 -0.318445   \n",
      "...          ...       ...       ...       ...       ...       ...       ...   \n",
      "279863  169142.0 -1.927883  1.125653 -4.518331  1.749293 -1.566487 -2.010494   \n",
      "280143  169347.0  1.378559  1.289381 -5.004247  1.411850  0.442581 -1.326536   \n",
      "280149  169351.0 -0.676143  1.126366 -2.213700  0.468308 -1.120541 -0.003346   \n",
      "281144  169966.0 -3.113832  0.585864 -5.399730  1.817092 -0.840618 -2.943548   \n",
      "281674  170348.0  1.991976  0.158476 -2.583441  0.408670  1.151147 -0.096695   \n",
      "\n",
      "              V7        V8        V9  ...       V20       V21       V22  \\\n",
      "256591  0.098128 -0.022334 -0.237322  ... -0.353736  0.007164  0.487273   \n",
      "181858  0.056571  0.124489 -1.271957  ... -0.529472 -0.828984 -2.004739   \n",
      "170245  0.261161 -0.451515 -1.015845  ... -0.192007  0.481440  1.383841   \n",
      "129658  0.076801 -0.215621  0.330045  ... -0.030777 -0.169801 -0.352971   \n",
      "112047  0.460012  0.141117  0.320315  ... -0.043952 -0.013709  0.155434   \n",
      "...          ...       ...       ...  ...       ...       ...       ...   \n",
      "279863 -0.882850  0.697211 -2.064945  ...  1.252967  0.778584 -0.319189   \n",
      "280143 -1.413170  0.248525 -1.127396  ...  0.226138  0.370612  0.028234   \n",
      "280149 -2.234739  1.210158 -0.652250  ...  0.247968  0.751826  0.834108   \n",
      "281144 -2.208002  1.058733 -1.632333  ...  0.306271  0.583276 -0.269209   \n",
      "281674  0.223050 -0.068384  0.577829  ... -0.017652 -0.164350 -0.295135   \n",
      "\n",
      "             V23       V24       V25       V26       V27       V28  Amount  \n",
      "256591 -0.522417 -1.354784  0.558119  0.162606  0.095420  0.102829   15.17  \n",
      "181858 -0.094761  0.597199  0.167416 -0.530147  0.251773  0.069673   58.18  \n",
      "170245 -0.250283 -0.282524  0.719397  0.307609 -0.109606 -0.112056    1.79  \n",
      "129658  0.041915  0.968439  0.391506  0.230748 -0.023755  0.025324   39.84  \n",
      "112047 -0.236904  0.080626 -0.181921  0.891296  0.144108  0.161836    5.00  \n",
      "...          ...       ...       ...       ...       ...       ...     ...  \n",
      "279863  0.639419 -0.294885  0.537503  0.788395  0.292680  0.147968  390.00  \n",
      "280143 -0.145640 -0.081049  0.521875  0.739467  0.389152  0.186637    0.76  \n",
      "280149  0.190944  0.032070 -0.739695  0.471111  0.385107  0.194361   77.89  \n",
      "281144 -0.456108 -0.183659 -0.328168  0.606116  0.884876 -0.253700  245.00  \n",
      "281674 -0.072173 -0.450261  0.313267 -0.289617  0.002988 -0.015309   42.53  \n",
      "\n",
      "[984 rows x 30 columns]\n"
     ]
    }
   ],
   "source": [
    "print(X)"
   ]
  },
  {
   "cell_type": "code",
   "execution_count": 13,
   "id": "a39f43af",
   "metadata": {},
   "outputs": [
    {
     "name": "stdout",
     "output_type": "stream",
     "text": [
      "256591    0\n",
      "181858    0\n",
      "170245    0\n",
      "129658    0\n",
      "112047    0\n",
      "         ..\n",
      "279863    1\n",
      "280143    1\n",
      "280149    1\n",
      "281144    1\n",
      "281674    1\n",
      "Name: Class, Length: 984, dtype: int64\n"
     ]
    }
   ],
   "source": [
    "print(Y)"
   ]
  },
  {
   "cell_type": "markdown",
   "id": "84c45dfd",
   "metadata": {},
   "source": [
    "Split the dataset into training and testing sets"
   ]
  },
  {
   "cell_type": "code",
   "execution_count": 16,
   "id": "a47d018a",
   "metadata": {},
   "outputs": [],
   "source": [
    "X_train,X_test,Y_train,Y_test= train_test_split(X,Y, test_size=0.2,stratify=Y,random_state=2)"
   ]
  },
  {
   "cell_type": "markdown",
   "id": "5822f16a",
   "metadata": {},
   "source": [
    "Create and train the logistic regression model"
   ]
  },
  {
   "cell_type": "code",
   "execution_count": 17,
   "id": "f22e5591",
   "metadata": {},
   "outputs": [
    {
     "data": {
      "text/plain": [
       "LogisticRegression()"
      ]
     },
     "execution_count": 17,
     "metadata": {},
     "output_type": "execute_result"
    }
   ],
   "source": [
    "model=LogisticRegression()\n",
    "model.fit(X_train,Y_train)"
   ]
  },
  {
   "cell_type": "markdown",
   "id": "55bca103",
   "metadata": {},
   "source": [
    "Predict accuracy score "
   ]
  },
  {
   "cell_type": "code",
   "execution_count": null,
   "id": "471728c6",
   "metadata": {},
   "outputs": [],
   "source": [
    "X_train_prediction=model.predict(X_train)\n",
    "training_accuracy=accuracy_score(X_train_prediction,Y_train)"
   ]
  },
  {
   "cell_type": "code",
   "execution_count": null,
   "id": "8ea764b2",
   "metadata": {},
   "outputs": [],
   "source": [
    "print(\"The accuracy score on Training Data : \",training_accuracy)"
   ]
  },
  {
   "cell_type": "code",
   "execution_count": null,
   "id": "9eb19110",
   "metadata": {},
   "outputs": [],
   "source": [
    "X_test_prediction=model.predict(X_test)\n",
    "test_accuracy=accuracy_score(X_test_prediction,Y_test)"
   ]
  },
  {
   "cell_type": "code",
   "execution_count": null,
   "id": "4551e460",
   "metadata": {},
   "outputs": [],
   "source": [
    "print(\"The accuracy score on Test Data : \",test_accuracy)"
   ]
  },
  {
   "cell_type": "markdown",
   "id": "0a756994",
   "metadata": {},
   "source": [
    " "
   ]
  },
  {
   "cell_type": "code",
   "execution_count": null,
   "id": "86e09194",
   "metadata": {},
   "outputs": [],
   "source": []
  }
 ],
 "metadata": {
  "kernelspec": {
   "display_name": "Python 3 (ipykernel)",
   "language": "python",
   "name": "python3"
  },
  "language_info": {
   "codemirror_mode": {
    "name": "ipython",
    "version": 3
   },
   "file_extension": ".py",
   "mimetype": "text/x-python",
   "name": "python",
   "nbconvert_exporter": "python",
   "pygments_lexer": "ipython3",
   "version": "3.9.12"
  }
 },
 "nbformat": 4,
 "nbformat_minor": 5
}
